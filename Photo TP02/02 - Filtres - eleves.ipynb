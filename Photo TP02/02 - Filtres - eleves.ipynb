{
 "cells": [
  {
   "cell_type": "markdown",
   "metadata": {},
   "source": [
    "# Traitement d'images numériques\n",
    "\n",
    "Utilisation de pillow en python pour traiter des images\n",
    "\n",
    "Lien avec le programme :\n",
    "\n",
    "![SegmentLocal](images/programme.jpg \"segment\")\n",
    "    \n"
   ]
  },
  {
   "cell_type": "markdown",
   "metadata": {},
   "source": [
    "Vous êtes en train d'utiliser un notebook jupyter qui utilise le language Python.\n",
    "\n",
    "Il y a des cellules de texte et des cellules de code.\n",
    "\n",
    "Pour avancer et exécuter le code, il faut cliquer sur \"exécuter\" ou utiliser le raccourci clavier SHIFT + ENTREE"
   ]
  },
  {
   "cell_type": "markdown",
   "metadata": {},
   "source": [
    "Par exemple la cellule de code ci-dessous va vous demander votre nom puis votre prénom :"
   ]
  },
  {
   "cell_type": "code",
   "execution_count": null,
   "metadata": {},
   "outputs": [],
   "source": [
    "nom = input(\"Quel est votre nom ?\")\n",
    "prénom=input(\"Quel est votre prénom ?\")"
   ]
  },
  {
   "cell_type": "code",
   "execution_count": null,
   "metadata": {},
   "outputs": [],
   "source": [
    "print(\"Bienvenue \", nom, prénom)"
   ]
  },
  {
   "cell_type": "markdown",
   "metadata": {},
   "source": [
    "La cellule suivante est très importante, elle va permettre d'installer le module pillow qui permet de traiter les images.\n",
    "L'installation peut prendre un peu de temps."
   ]
  },
  {
   "cell_type": "code",
   "execution_count": null,
   "metadata": {},
   "outputs": [],
   "source": [
    "!pip install pillow"
   ]
  },
  {
   "cell_type": "markdown",
   "metadata": {},
   "source": [
    "La cellule suivante va importer le module Image de la bibliothèque pillow (PIL)"
   ]
  },
  {
   "cell_type": "code",
   "execution_count": null,
   "metadata": {},
   "outputs": [],
   "source": [
    "from PIL.Image import * # permet d'importer le module image de la bibliothèque PIL"
   ]
  },
  {
   "cell_type": "markdown",
   "metadata": {},
   "source": [
    "Nous sommes maintenant prêts à travailler !"
   ]
  },
  {
   "cell_type": "markdown",
   "metadata": {},
   "source": [
    "# Activités :\n",
    "\n",
    "But : programmer en Python quelques modifications d'image simples"
   ]
  },
  {
   "cell_type": "markdown",
   "metadata": {},
   "source": [
    "# 1. Réalisation d'un filtre rouge :\n",
    "Rappels :\n",
    "Les composantes de couleur d'un pixel sont données par trois nombres r,v,b <br>\n",
    "qui sont des entiers compris entre 0 et 255 et qui indiquent la proportion de lumière rouge, verte ou bleue.\n",
    "\n",
    "En combinant ces 3 composantes on peut refabriquer l'ensemble des couleurs.\n",
    "\n",
    "On souhaite réaliser un filtre rouge qui conserve la composante rouge de chaque pixel mais qui passe les autres coposantes à la valeur zéro.\n",
    "\n",
    "La photographie initiale est la suivante :\n",
    "![SegmentLocal](images/colors_small.jpg \"segment\")"
   ]
  },
  {
   "cell_type": "markdown",
   "metadata": {},
   "source": [
    "On commence par ouvrir l'image en mémoire et récupérer ses dimensions"
   ]
  },
  {
   "cell_type": "code",
   "execution_count": null,
   "metadata": {},
   "outputs": [],
   "source": [
    "img=open(\"colors.jpg\") #crée un objet img qui contient l'image colors.jpg\n",
    "largeur = img.width\n",
    "hauteur = img.height\n",
    "print ('largeur : ', largeur, 'pixels', '; hauteur : ', hauteur,'pixels')\n"
   ]
  },
  {
   "cell_type": "markdown",
   "metadata": {},
   "source": [
    "On va utiliser alors une double boucle pour parcourir et modifier les pixels un par un : c'est à dire ne conserver que la valeur du pixel rouge et palcer 0 pour les pixels vert et bleu.\n",
    "***\n",
    "\n",
    "**Questions** (répondre sur la fiche élève)\n",
    "\n",
    "1) Quelles sont les dimensions de l’image étudiée ?\n",
    "\n",
    "2) Que fait le code Python proposé ?\n",
    "\n",
    "3) Lire, tester et corriger l'erreur dans le programme Python ci-dessous :\n",
    "\n",
    "***"
   ]
  },
  {
   "cell_type": "code",
   "execution_count": null,
   "metadata": {},
   "outputs": [],
   "source": [
    "img=open(\"colors.jpg\") #recrée un objet img qui contient l'image colors.jpg si celui-ci a été modifié avant\n",
    "for x in range(0,largeur):\n",
    "    for y in range(0,hauteur):\n",
    "        # Ici on traite le pixel (x,y) de l'image\n",
    "        (r,v,b)=img.getpixel((x,y))\n",
    "        img.putpixel((x,y), (0,v,0))\n",
    "img # pour afficher l'image dans le notebook"
   ]
  },
  {
   "cell_type": "markdown",
   "metadata": {},
   "source": [
    "# 2. Réalisation d'un filtre gris\n",
    "\n",
    "On propose ensuite de passer une image couleurs en niveaux de gris :\n",
    "\n",
    "pour cela, il faut comprendre ce que signifie le gris en mode RVB :\n",
    "\n",
    "On passe du noir (0,0,0) au blanc (255,255,255) avec les valeurs intermédiaire de gris qui ont toutes la même valeur pour (r,v,b).\n",
    "![SegmentLocal](images/gris.jpg \"segment\")\n",
    "\n",
    "Se pose alors la question de savoir quelle valeur (L,L,L) mettre pour un gris donnée par (r,v,b) ? \n",
    "\n",
    "On peut essayer de faire la moyenne des trois valeurs : $\\frac{(r+v+b)}{3}$"
   ]
  },
  {
   "cell_type": "markdown",
   "metadata": {},
   "source": [
    "***\n",
    "\n",
    "**Questions** (répondre sur la fiche élève)\n",
    "\n",
    "4) Noter le résultat des calculs sur votre feuille réponse. Quel problème se pose ?\n",
    "\n",
    "Pour éviter cela, on utilise une moyenne pondérée. Les pondérations dépendent notamment de la sensibilité des couleurs primaires à l’œil humain. <br>\n",
    "La formule couramment utilisée est :   $L = \\frac{(21*r + 71*v + 8*b)}{100} $ \n",
    "\n",
    "Sous Python, on écrira `L = (21*r + 71*v + 8*b)//100` <br>\n",
    "Le // désigne l'opérateur division entière qui renvoie un nombre entier .\n",
    "\n",
    "5) Recalculer les luminances avec cette dernière formule.  Peut-on distinguer maintenant rouge, vert et bleu ?\n",
    "\n",
    "6) Traiter alors l'image précedente pour la faire passer en niveaux de gris\n",
    "***"
   ]
  },
  {
   "cell_type": "code",
   "execution_count": null,
   "metadata": {},
   "outputs": [],
   "source": [
    "img=open(\"colors.jpg\") #recrée un objet img qui contient l'image colors.jpg si celui-ci a été modifié avant\n",
    "for x in range(0,largeur):\n",
    "    for y in range(0,hauteur):\n",
    "        # Ici on traite le pixel (x,y) de l'image\n",
    "        (r,v,b)=img.getpixel((x,y))\n",
    "        L =    ????????????   # On calcule ici la valeur de L avec la moyenne pondérée\n",
    "        img.putpixel((x,y), ( ???????????? ) ) \n",
    "img # pour afficher l'image dans le notebook"
   ]
  },
  {
   "cell_type": "markdown",
   "metadata": {},
   "source": [
    "# 3. Passage d'une image couleur en son négatif\n",
    "\n",
    "Exemple :  \n",
    "![SegmentLocal](images/negatif.jpg \"segment\")\n",
    "\n",
    "Le principe du filtre négatif est de remplacer chaque composante par son complémentaire :  \n",
    "![SegmentLocal](images/etoile.jpg \"segment\")\n",
    "\n",
    "ainsi le bleu (0,0,255) est remplacé par le jaune (255,255,0)\n",
    "\n",
    "0 devient 255 soit 255-0\n",
    "\n",
    "255 devient 0 soit 255-255"
   ]
  },
  {
   "cell_type": "markdown",
   "metadata": {},
   "source": [
    "***\n",
    "**Questions** (répondre sur la fiche élève)\n",
    "\n",
    "7) Comment obtient-on la couleur complémentaire :\n",
    "\n",
    "8) Quelle est la couleur complémentaire du noir ? code R,V,B \n",
    "\n",
    "9) Compléter le code suivant de manière à obtenir le négatif :  \n",
    "![SegmentLocal](images/eowyn_small.jpg \"segment\")\n",
    "\n",
    "--> Compléter la feuille réponse.\n",
    "***"
   ]
  },
  {
   "cell_type": "code",
   "execution_count": null,
   "metadata": {},
   "outputs": [],
   "source": [
    "img=open(\"eowyn.jpg\") #recrée un objet img qui contient l'image initiale eowyn.jpg\n",
    "largeur, hauteur = img.size # met les valeurs de largeur et de hauteur pour ce nouvel objet\n",
    "for x in range(0,largeur):\n",
    "    for y in range(0,hauteur):\n",
    "        # Ici on traite le pixel (x,y) de l'image\n",
    "        (r,v,b)=img.getpixel((x,y))\n",
    "        img.putpixel((x,y), (?????????????))\n",
    "\n",
    "img.save(\"eowyn_neg.jpg\")\n",
    "img # pour afficher l'image dans le notebook\n",
    "\n"
   ]
  },
  {
   "cell_type": "markdown",
   "metadata": {},
   "source": [
    "Lorsque votre travail est terminé, faire vérifier.\n",
    "Enregistrer votre travail :\n",
    "avec **\"Download as a Notebook\"** du menu File\n",
    "\n",
    "\n",
    "Placer le fichier dans votre dossier personnel et dans le dossier commun de la classe si demandé.\n",
    "\n"
   ]
  }
 ],
 "metadata": {
  "kernel_info": {
   "name": "python3"
  },
  "kernelspec": {
   "display_name": "Python 3",
   "language": "python",
   "name": "python3"
  },
  "language_info": {
   "codemirror_mode": {
    "name": "ipython",
    "version": 3
   },
   "file_extension": ".py",
   "mimetype": "text/x-python",
   "name": "python",
   "nbconvert_exporter": "python",
   "pygments_lexer": "ipython3",
   "version": "3.6.5"
  },
  "nteract": {
   "version": "0.15.0"
  }
 },
 "nbformat": 4,
 "nbformat_minor": 2
}

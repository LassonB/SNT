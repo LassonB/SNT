{
 "cells": [
  {
   "cell_type": "markdown",
   "metadata": {},
   "source": [
    "# Traitement d'images numériques\n",
    "\n",
    "Utilisation de pillow en python pour traiter des images\n",
    "\n",
    "Lien avec le programme :\n",
    "\n",
    "![SegmentLocal](images/programme.jpg \"segment\")\n",
    "    \n"
   ]
  },
  {
   "cell_type": "markdown",
   "metadata": {},
   "source": [
    "Vous êtes en train d'utiliser un notebook jupyter qui utilise le language Python.\n",
    "\n",
    "Il y a des cellules de texte et des cellules de code.\n",
    "\n",
    "Pour avancer et exécuter le code, il faut cliquer sur \"exécuter\" ou utiliser le raccourci clavier SHIFT + ENTREE"
   ]
  },
  {
   "cell_type": "markdown",
   "metadata": {},
   "source": [
    "Par exemple la cellule de code ci-dessous va vous demander votre nom puis votre prénom :"
   ]
  },
  {
   "cell_type": "code",
   "execution_count": null,
   "metadata": {},
   "outputs": [],
   "source": [
    "nom = input(\"Quel est votre nom ?\")\n",
    "prénom=input(\"Quel est votre prénom ?\")"
   ]
  },
  {
   "cell_type": "code",
   "execution_count": null,
   "metadata": {},
   "outputs": [],
   "source": [
    "print(\"Bienvenue \", nom, prénom)"
   ]
  },
  {
   "cell_type": "markdown",
   "metadata": {},
   "source": [
    "La cellule suivante est très importante, elle va permettre d'installer le module pillow qui permet de traiter les images.\n",
    "L'installation peut prendre un peu de temps."
   ]
  },
  {
   "cell_type": "code",
   "execution_count": null,
   "metadata": {},
   "outputs": [],
   "source": [
    "!pip install pillow"
   ]
  },
  {
   "cell_type": "markdown",
   "metadata": {},
   "source": [
    "La cellule suivante va importer le module Image de la bibliothèque pillow (PIL)"
   ]
  },
  {
   "cell_type": "code",
   "execution_count": null,
   "metadata": {},
   "outputs": [],
   "source": [
    "from PIL.Image import * # permet d'importer le module image de la bibliothèque PIL"
   ]
  },
  {
   "cell_type": "markdown",
   "metadata": {},
   "source": [
    "Nous sommes maintenant prêts à travailler !"
   ]
  },
  {
   "cell_type": "markdown",
   "metadata": {},
   "source": [
    "__1. Fonctions de base du module pillow :__"
   ]
  },
  {
   "cell_type": "markdown",
   "metadata": {},
   "source": [
    "Exécuter les cellules suivantes et lire les commentaires pour comprendre ce qui se passe :"
   ]
  },
  {
   "cell_type": "code",
   "execution_count": null,
   "metadata": {},
   "outputs": [],
   "source": [
    "img=open(\"France.png\") #l'image est chargée en mémoire - mais pas affichée\n",
    "img # permet de l'afficher dans le notebook"
   ]
  },
  {
   "cell_type": "code",
   "execution_count": null,
   "metadata": {},
   "outputs": [],
   "source": [
    "largeur = img.width # Cette instruction permet de stocker la largeur de l'image (en pixels) dans une variable appelée largeur\n",
    "hauteur = img.height\n",
    "print ('largeur : ', largeur, 'pixels', '; hauteur : ', hauteur,'pixels')"
   ]
  },
  {
   "cell_type": "markdown",
   "metadata": {},
   "source": [
    "Les pixels sont rangés selon une grille et ont chacun des coordonnées (x,y) :\n",
    "\n",
    "![SegmentLocal](images/coordonnees.jpg \"segment\")"
   ]
  },
  {
   "cell_type": "markdown",
   "metadata": {},
   "source": [
    "On peut récupérer l'information rouge, Vert, bleu d'un pixel de l'image de coordonnées (x, y).\n",
    "\n",
    "A votre avis, quelle couleur pour le pixel de coordonnées (100,300) du drapeau français ?\n",
    "Vérifier votre réponse avec le programme Python ci-dessous :"
   ]
  },
  {
   "cell_type": "code",
   "execution_count": null,
   "metadata": {},
   "outputs": [],
   "source": [
    "x=100 # position en largeur\n",
    "y=300 # position en hauteur\n",
    "\n",
    "(r,v,b)=img.getpixel((x,y))\n",
    "\n",
    "print(\"la composante rouge vaut : \", r, \"la composante verte vaut : \", v, \"la composante bleu vaut : \", b)"
   ]
  },
  {
   "cell_type": "markdown",
   "metadata": {},
   "source": [
    "<style>\n",
    "    p {\n",
    "      background-color: blue;\n",
    "      padding: 5px;\n",
    "      border: 1px solid black;\n",
    "    }\n",
    "Modifier les coordonnées du pixel pour obtenir les composantes (r,v,b) de pixels situés dans chaque partie du drapeau <br>\n",
    "--> Noter vos résultats sur la feuille réponse\n"
   ]
  },
  {
   "cell_type": "markdown",
   "metadata": {},
   "source": [
    "***\n",
    "\n",
    "**Questions :** (répondre sur la fiche élève )\n",
    "\n",
    "1) Quelles sont les dimensions du fichier image du drapeau français :\n",
    "\n",
    "2) Quel est le format de fichier ? (extension)\n",
    "\n",
    "3) quelle instruction python permet de charger l'image en mémoire pour pouvoir l'utiliser ?\n",
    "\n",
    "4) Que fait l’instruction getpixel ( (x,y) ) ?\n",
    "\n",
    "5) Compléter le tableau avec les couleurs de chaque aprtie du drapeau français en mode R,V,B.\n",
    "\n",
    "***"
   ]
  },
  {
   "cell_type": "markdown",
   "metadata": {},
   "source": [
    "<div class=\"travail à faire\">\n",
    "On peut modifier la couleur (r,v,b) d'un pixel de coordonnées (x,y) avec l'instruction : `putpixel( (x,y), (r,v,b) )`\n",
    "\n",
    "Lire le programme Python suivant et essayer de deviner ce qu'il va faire :\n",
    "</div>\n",
    "    "
   ]
  },
  {
   "cell_type": "code",
   "execution_count": null,
   "metadata": {},
   "outputs": [],
   "source": [
    "img=open(\"France.png\") #l'image est rechargée en mémoire\n",
    "x=450\n",
    "y=300\n",
    "img.putpixel((x,y), (0,0,0))\n",
    "img"
   ]
  },
  {
   "cell_type": "markdown",
   "metadata": {},
   "source": [
    "On souhaite modifier le drapeau de la France pour le recolorier avec les couleurs du drapeau belge ou du drapeau italien.\n",
    "***\n",
    "**Questions :** (répondre sur la fiche élève )\n",
    "\n",
    "6)\tQue fait l’instruction :  `img.putpixel((450,300), (0,0,0))` ?\n",
    "\n",
    "7) Compléter le schéma avec les coordonnées et les dimensions du tableau.\n",
    "\n",
    "8) Après avoir compris le code Python ci-dessous, compléter votre fiche avec le code Python pour obtenir la couleur du milieu du drapeau :\n",
    "***"
   ]
  },
  {
   "cell_type": "markdown",
   "metadata": {},
   "source": [
    "Voici un exemple de code qui utilise une double boucle pour parcourir une partie des pixels de la bande de gauche du drapeau et pour les recolorier en noir.\n",
    "Lire le code puis l'exécuter.\n"
   ]
  },
  {
   "cell_type": "code",
   "execution_count": null,
   "metadata": {},
   "outputs": [],
   "source": [
    "img=open(\"France.png\") #l'image est chargée en mémoire / permet aussi de la rechager sans les modifications \n",
    "for x in range(0,300):\n",
    "    for y in range(0,300):\n",
    "        # Ici on traite le pixel (x,y) de l'image\n",
    "        img.putpixel((x,y), (0,0,0))\n",
    "img"
   ]
  },
  {
   "cell_type": "markdown",
   "metadata": {},
   "source": [
    "***\n",
    "Adaptez le code ci-dessus pour qu'il transforme la première bande du drapeau français en la première bande du drapeau désiré\n",
    "--> faire vérifier\n",
    "\n",
    "Effectuer alors la transformation complète du drapeau français\n",
    "--> faire vérifier\n",
    "***\n"
   ]
  },
  {
   "cell_type": "markdown",
   "metadata": {},
   "source": [
    "La fonction ci-dessous va permettre de tester  si votre drapeau est réussi"
   ]
  },
  {
   "cell_type": "code",
   "execution_count": null,
   "metadata": {},
   "outputs": [],
   "source": [
    "def test(image):\n",
    "    positif=True\n",
    "    for x in range(0,300):\n",
    "        if positif==False:\n",
    "            break\n",
    "        else :\n",
    "            for y in range(0,600):\n",
    "                (r,v,b)=img.getpixel((x,y))\n",
    "                if (r,v,b)!=(0,0,0) :\n",
    "                    positif = False\n",
    "                    print (positif,\": erreur pour le pixel :\", (x,y), \"qui est de couleur :\" , (r,v,b))\n",
    "                    break # ne fait sortir que de la boucle interne dans le cas de boucles imbriquées...\n",
    "            \n",
    "    for x in range(300,600):\n",
    "        if positif==False:\n",
    "            break\n",
    "        else :\n",
    "            for y in range(0,600):\n",
    "                (r,v,b)=img.getpixel((x,y))\n",
    "                if (r,v,b)!=(255,255,0) :\n",
    "                    positif = False\n",
    "                    print (positif,\": erreur pour le pixel :\", (x,y), \"qui est de couleur :\" , (r,v,b))\n",
    "                    break\n",
    "                \n",
    "    for x in range(600,900):\n",
    "        if positif==False:\n",
    "            break\n",
    "        else :\n",
    "            for y in range(0,600):\n",
    "                (r,v,b)=img.getpixel((x,y))\n",
    "                if (r,v,b)!=(255,0,0) :\n",
    "                    positif = False\n",
    "                    print (positif,\": erreur pour le pixel :\", (x,y), \"qui est de couleur :\" , (r,v,b))\n",
    "                    break\n",
    "    if positif==True:\n",
    "        print(\"Bon travail \", nom , \"  \", prénom)\n",
    "    return \n",
    "    \n",
    "    "
   ]
  },
  {
   "cell_type": "code",
   "execution_count": null,
   "metadata": {},
   "outputs": [],
   "source": [
    "test(img) # cette cellule effectue le test"
   ]
  },
  {
   "cell_type": "markdown",
   "metadata": {},
   "source": [
    "Lorsque votre travail est terminé, faire vérifier.\n",
    "Enregistrer votre travail :\n",
    "avec **\"Download as a Notebook\"** du menu File\n",
    "\n",
    "\n",
    "Placer le fichier dans votre dossier personnel et dans le dossier commun de la classe si demandé.\n",
    "\n"
   ]
  },
  {
   "cell_type": "code",
   "execution_count": null,
   "metadata": {},
   "outputs": [],
   "source": []
  }
 ],
 "metadata": {
  "kernel_info": {
   "name": "python3"
  },
  "kernelspec": {
   "display_name": "Python 3",
   "language": "python",
   "name": "python3"
  },
  "language_info": {
   "codemirror_mode": {
    "name": "ipython",
    "version": 3
   },
   "file_extension": ".py",
   "mimetype": "text/x-python",
   "name": "python",
   "nbconvert_exporter": "python",
   "pygments_lexer": "ipython3",
   "version": "3.6.5"
  },
  "nteract": {
   "version": "0.15.0"
  }
 },
 "nbformat": 4,
 "nbformat_minor": 2
}

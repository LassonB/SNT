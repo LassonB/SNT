{
 "cells": [
  {
   "cell_type": "markdown",
   "metadata": {},
   "source": [
    "## Détection de contours avec Python\n"
   ]
  },
  {
   "cell_type": "code",
   "execution_count": null,
   "metadata": {},
   "outputs": [],
   "source": []
  },
  {
   "cell_type": "markdown",
   "metadata": {},
   "source": [
    "On nous promet des voitures autonomes pour... bientôt.\n",
    "De nombreux problèmes sont à résoudre et notamment celui de la détection des formes et contours.\n",
    "Il faut en effet recréer un environnement 3D permettant à la voiture autonome de se déplacer et d'identifier les véhicules ou obstacles.\n",
    "\n"
   ]
  },
  {
   "cell_type": "markdown",
   "metadata": {},
   "source": [
    "voici l'image avec laquelle nous allons travailler :"
   ]
  },
  {
   "cell_type": "markdown",
   "metadata": {},
   "source": [
    "![](images/abbey-road_small.jpg)"
   ]
  },
  {
   "cell_type": "markdown",
   "metadata": {},
   "source": [
    "Vous êtes en train d'utiliser un notebook jupyter qui utilise le language Python.\n",
    "\n",
    "Il y a des cellules de texte et des cellules de code.\n",
    "\n",
    "Pour avancer et exécuter le code, il faut cliquer sur \"exécuter\" ou utiliser le raccourci clavier SHIFT + ENTREE"
   ]
  },
  {
   "cell_type": "markdown",
   "metadata": {},
   "source": [
    "Par exemple la cellule de code ci-dessous va vous demander votre nom puis votre prénom :"
   ]
  },
  {
   "cell_type": "code",
   "execution_count": null,
   "metadata": {},
   "outputs": [],
   "source": [
    "nom = input(\"Quel est votre nom ?\")\n",
    "prénom=input(\"Quel est votre prénom ?\")"
   ]
  },
  {
   "cell_type": "code",
   "execution_count": null,
   "metadata": {},
   "outputs": [],
   "source": [
    "print(\"Bienvenue \", nom, prénom)"
   ]
  },
  {
   "cell_type": "markdown",
   "metadata": {},
   "source": [
    "La cellule suivante est très importante, elle va permettre d'installer le module pillow qui permet de traiter les images.\n",
    "L'installation peut prendre un peu de temps."
   ]
  },
  {
   "cell_type": "code",
   "execution_count": null,
   "metadata": {},
   "outputs": [],
   "source": [
    "!pip install pillow"
   ]
  },
  {
   "cell_type": "markdown",
   "metadata": {},
   "source": [
    "La cellule suivante va importer le module Image de la bibliothèque pillow (PIL)"
   ]
  },
  {
   "cell_type": "code",
   "execution_count": null,
   "metadata": {},
   "outputs": [],
   "source": [
    "from PIL.Image import * # permet d'importer le module image de la bibliothèque PIL"
   ]
  },
  {
   "cell_type": "markdown",
   "metadata": {},
   "source": [
    "Nous sommes maintenant prêts à travailler !"
   ]
  },
  {
   "cell_type": "markdown",
   "metadata": {},
   "source": [
    "**Ouverture de l'image à étudier pour ce filtre de détection de contours :**"
   ]
  },
  {
   "cell_type": "code",
   "execution_count": null,
   "metadata": {},
   "outputs": [],
   "source": [
    "img=open(\"images/abbey-road.jpg\")\n",
    "img"
   ]
  },
  {
   "cell_type": "markdown",
   "metadata": {},
   "source": [
    "On récupère ensuite les informations de taille de cette image :"
   ]
  },
  {
   "cell_type": "code",
   "execution_count": null,
   "metadata": {},
   "outputs": [],
   "source": [
    "#prend en compte la largeur de l'image et sa hauteur\n",
    "largeur,hauteur=img.size\n",
    "\n",
    "print (f\"la largeur de cette image est :{largeur} pixels, la hauteur de cette image est : {hauteur} pixels\") # utilisation d'une f-string "
   ]
  },
  {
   "cell_type": "code",
   "execution_count": null,
   "metadata": {},
   "outputs": [],
   "source": [
    "# on crée automatiquement une image en niveaux de gris pour simplifier la suite du programme\n",
    "img_gris = img.convert('L')\n",
    "img_gris"
   ]
  },
  {
   "cell_type": "code",
   "execution_count": null,
   "metadata": {},
   "outputs": [],
   "source": [
    "#on crée une nouvelle image de même dimension pour stocker le résultat\n",
    "img_contour=new(\"RGB\",(largeur,hauteur))"
   ]
  },
  {
   "cell_type": "markdown",
   "metadata": {},
   "source": [
    "**1. Compréhension de la détection de contours :**\n",
    "\n",
    "***\n",
    "Compléter la feuille élève \n",
    "\n",
    "***\n"
   ]
  },
  {
   "cell_type": "markdown",
   "metadata": {},
   "source": [
    "**2. Programme Python à compléter : **"
   ]
  },
  {
   "cell_type": "code",
   "execution_count": null,
   "metadata": {},
   "outputs": [],
   "source": [
    "# on parcourt tous les pixels (sauf les bords)\n",
    "# y varie de 1 à (hauteur-2) et x varie de 1 à (largeur-2)\n",
    "\n",
    "\n",
    "for y in range(1,hauteur-1):\n",
    " for x in range(1,?????????):\n",
    "   # a, b, c et d contiennent les valeurs du niveau de gris des pixels voisins  du pixel P(x,y)\n",
    "   a = img_gris.getpixel((x-1, y-1))\n",
    "   b = img_gris.getpixel((x+1, y+1))\n",
    "   c = img_gris.getpixel((x-1, y+1))\n",
    "   d = img_gris.getpixel((x+1, y-1))\n",
    "# partie à modifier\n",
    "   norme = ????????????????????\n",
    "   seuil = ????????????????????  # choix du seuil pour la détection de contours\n",
    "\n",
    "   # le pixel (x,y) fait parti du contour si sa norme est supérieure au seuil et on le colorie en noir. Sinon, on le colorie en blanc.\n",
    "   if norme > seuil : # test conditionnel si .... alors .....\n",
    "    img_contour.putpixel((x, y), (???,???,???))\n",
    "   else :\n",
    "    img_contour.putpixel((x, y), (???,???,???))\n",
    "        "
   ]
  },
  {
   "cell_type": "code",
   "execution_count": null,
   "metadata": {},
   "outputs": [],
   "source": [
    "#on nomme la nouvelle image pour l'enregistrer\n",
    "img_contour.save(\"images/contour.jpg\") #nom a modifier\n",
    "#on visualise cette nouvelle image\n",
    "img_contour"
   ]
  },
  {
   "cell_type": "markdown",
   "metadata": {},
   "source": [
    "***"
   ]
  },
  {
   "cell_type": "markdown",
   "metadata": {},
   "source": [
    "Lorsque votre travail est terminé, faire vérifier.\n",
    "Enregistrer votre travail :\n",
    "avec **\"Download as a Notebook\"** du menu File\n",
    "\n",
    "\n",
    "Placer le fichier dans votre dossier personnel et dans le dossier commun de la classe si demandé.\n",
    "\n"
   ]
  },
  {
   "cell_type": "markdown",
   "metadata": {},
   "source": [
    "***\n",
    "** Bonus :** \n",
    "\n",
    "Si vous avez terminé, vous pouvez essayer de mettre en place des filtres différents :\n",
    "1) Vous pouvez essayer votre filtre de détection de contours **sur d'autres images** du dossier image en modifiant le chemin d'accès au fichier :\n",
    "remplacer abbey-raod.jpg qui est dans : images/abbey-road.jpg par : \n",
    "\n",
    "route.jpg / lune.jpg / beffroi.jpg / bretagne.jpg \n",
    "\n",
    "2) **Couleurs cyclées** : un pixel bleu deviendra rouge, un pixel rouge deviendra vert et un pixel vert deviendra bleu)\n",
    "\n",
    "3) **Image floue**, chaque point est obtenue en faisant la moyenne des valeurs de pixels voisins.\n",
    "\n",
    "4) **Image «quantifiée»**, chaque composante ne peut prendre que 8 valeurs différentes, régulièrement réparties\n"
   ]
  },
  {
   "cell_type": "code",
   "execution_count": null,
   "metadata": {},
   "outputs": [],
   "source": []
  }
 ],
 "metadata": {
  "kernel_info": {
   "name": "python3"
  },
  "kernelspec": {
   "display_name": "Python 3",
   "language": "python",
   "name": "python3"
  },
  "language_info": {
   "codemirror_mode": {
    "name": "ipython",
    "version": 3
   },
   "file_extension": ".py",
   "mimetype": "text/x-python",
   "name": "python",
   "nbconvert_exporter": "python",
   "pygments_lexer": "ipython3",
   "version": "3.6.5"
  },
  "nteract": {
   "version": "0.15.0"
  }
 },
 "nbformat": 4,
 "nbformat_minor": 2
}
